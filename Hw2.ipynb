{
 "cells": [
  {
   "cell_type": "markdown",
   "metadata": {},
   "source": [
    "###### CSCE 320 :: Principles of Data Science ::Texas A&M University :: Fall 2020\n",
    "\n",
    "\n",
    "# Homework 2: Super Regression Funtime\n",
    "\n",
    "### 100 points [6% of your final grade]\n",
    "### Due: September 22nd by 11:59pm\n",
    "\n",
    "*Goals of this homework:* The objective of this homework is to get your hands dirty with linear regression -- including feature mapping, setting up a train/test evaluation framework, and evaluating the quality of regression models based on different feature combinations.\n",
    "\n",
    "\n",
    "*Submission instructions (Canvas):* To submit your homework, rename this notebook as `UIN_hw2.ipynb`. For example, if your UIN is `123456789`, then your homework submission would be something like `123456789_hw2.ipynb`. Submit this notebook via Canvas (looking for homework 2 under the assignment section).  Your notebook should be completely self-contained, with the results visible in the notebook. We should not have to run any code from the command line, nor should we have to run your code within the notebook (though we reserve the right to do so). So please run all the cells for us, and then submit.\n",
    "\n",
    "*Late submission policy:* For this homework, you may use up to three of your late days, meaning that no submissions will be accepted after September 25th at 11:59pm."
   ]
  },
  {
   "cell_type": "markdown",
   "metadata": {},
   "source": [
    "## Diamonds are Forever\n",
    "\n",
    "### Getting started: \n",
    "We're going to explore the features that impact the price of diamonds. We've provided a file called *diamonds.csv*. Let's load it and take a look: "
   ]
  },
  {
   "cell_type": "code",
   "execution_count": 115,
   "metadata": {
    "scrolled": true
   },
   "outputs": [
    {
     "data": {
      "text/html": [
       "<div>\n",
       "<style scoped>\n",
       "    .dataframe tbody tr th:only-of-type {\n",
       "        vertical-align: middle;\n",
       "    }\n",
       "\n",
       "    .dataframe tbody tr th {\n",
       "        vertical-align: top;\n",
       "    }\n",
       "\n",
       "    .dataframe thead th {\n",
       "        text-align: right;\n",
       "    }\n",
       "</style>\n",
       "<table border=\"1\" class=\"dataframe\">\n",
       "  <thead>\n",
       "    <tr style=\"text-align: right;\">\n",
       "      <th></th>\n",
       "      <th>carat</th>\n",
       "      <th>cut</th>\n",
       "      <th>color</th>\n",
       "      <th>clarity</th>\n",
       "      <th>depth</th>\n",
       "      <th>table</th>\n",
       "      <th>price</th>\n",
       "      <th>x</th>\n",
       "      <th>y</th>\n",
       "      <th>z</th>\n",
       "    </tr>\n",
       "  </thead>\n",
       "  <tbody>\n",
       "    <tr>\n",
       "      <th>0</th>\n",
       "      <td>0.57</td>\n",
       "      <td>Ideal</td>\n",
       "      <td>E</td>\n",
       "      <td>VS1</td>\n",
       "      <td>61.4</td>\n",
       "      <td>57.0</td>\n",
       "      <td>2068</td>\n",
       "      <td>5.37</td>\n",
       "      <td>5.32</td>\n",
       "      <td>3.28</td>\n",
       "    </tr>\n",
       "    <tr>\n",
       "      <th>1</th>\n",
       "      <td>0.32</td>\n",
       "      <td>Very Good</td>\n",
       "      <td>G</td>\n",
       "      <td>VS2</td>\n",
       "      <td>62.0</td>\n",
       "      <td>59.0</td>\n",
       "      <td>561</td>\n",
       "      <td>4.37</td>\n",
       "      <td>4.41</td>\n",
       "      <td>2.72</td>\n",
       "    </tr>\n",
       "    <tr>\n",
       "      <th>2</th>\n",
       "      <td>1.60</td>\n",
       "      <td>Very Good</td>\n",
       "      <td>E</td>\n",
       "      <td>SI2</td>\n",
       "      <td>62.0</td>\n",
       "      <td>57.0</td>\n",
       "      <td>9900</td>\n",
       "      <td>7.47</td>\n",
       "      <td>7.54</td>\n",
       "      <td>4.65</td>\n",
       "    </tr>\n",
       "    <tr>\n",
       "      <th>3</th>\n",
       "      <td>0.44</td>\n",
       "      <td>Premium</td>\n",
       "      <td>I</td>\n",
       "      <td>VVS2</td>\n",
       "      <td>61.5</td>\n",
       "      <td>57.0</td>\n",
       "      <td>1063</td>\n",
       "      <td>4.92</td>\n",
       "      <td>4.87</td>\n",
       "      <td>3.01</td>\n",
       "    </tr>\n",
       "    <tr>\n",
       "      <th>4</th>\n",
       "      <td>1.02</td>\n",
       "      <td>Very Good</td>\n",
       "      <td>H</td>\n",
       "      <td>SI1</td>\n",
       "      <td>61.6</td>\n",
       "      <td>58.0</td>\n",
       "      <td>4727</td>\n",
       "      <td>6.49</td>\n",
       "      <td>6.54</td>\n",
       "      <td>4.01</td>\n",
       "    </tr>\n",
       "  </tbody>\n",
       "</table>\n",
       "</div>"
      ],
      "text/plain": [
       "   carat        cut color clarity  depth  table  price     x     y     z\n",
       "0   0.57      Ideal     E     VS1   61.4   57.0   2068  5.37  5.32  3.28\n",
       "1   0.32  Very Good     G     VS2   62.0   59.0    561  4.37  4.41  2.72\n",
       "2   1.60  Very Good     E     SI2   62.0   57.0   9900  7.47  7.54  4.65\n",
       "3   0.44    Premium     I    VVS2   61.5   57.0   1063  4.92  4.87  3.01\n",
       "4   1.02  Very Good     H     SI1   61.6   58.0   4727  6.49  6.54  4.01"
      ]
     },
     "execution_count": 115,
     "metadata": {},
     "output_type": "execute_result"
    }
   ],
   "source": [
    "# imports\n",
    "import pandas as pd\n",
    "import matplotlib.pyplot as plt\n",
    "\n",
    "# this allows plots to appear directly in the notebook\n",
    "%matplotlib inline\n",
    "\n",
    "diamonds = pd.read_csv('diamonds.csv', index_col=0)\n",
    "diamonds.head()"
   ]
  },
  {
   "attachments": {
    "depth.png": {
     "image/png": "[encoded data removed]"
    }
   },
   "cell_type": "markdown",
   "metadata": {},
   "source": [
    "You'll see that each row represents a particular diamond. \n",
    "\n",
    "What are the **features**?\n",
    "  - *carat*: the carat weight measures the mass of the diamond\n",
    "  - *cut*: a measurement of a diamond's light performance (it's *sparkle*). Ideal > Premium > Very Good > Good > Fair\n",
    "  - *color*: diamonds are graded from colorless (D) to intense color (Z)\n",
    "  - *clarity*: measures the diamond's blemishes. Internally Flawless (IF) is the best in our dataset. IF > VVS1 > VVS2 > VS1 > VS2 > SI1 > SI2 > I1.\n",
    "  - depth ![depth.png](attachment:depth.png)\n",
    "  - *table*\n",
    "  - *x*\n",
    "  - *y*\n",
    "  - *z*\n",
    "  \n",
    "What do we care about predicting? That is, what is the **response** (or the **target**)?\n",
    "- price"
   ]
  },
  {
   "cell_type": "markdown",
   "metadata": {},
   "source": [
    "Let's start by building a linear regression model to predict the **price** of a diamond based on just the **table** and **depth** features."
   ]
  },
  {
   "cell_type": "code",
   "execution_count": 116,
   "metadata": {
    "scrolled": true
   },
   "outputs": [
    {
     "data": {
      "text/plain": [
       "((48546, 2), (48546,))"
      ]
     },
     "execution_count": 116,
     "metadata": {},
     "output_type": "execute_result"
    }
   ],
   "source": [
    "# split into features and the target of our regression\n",
    "x_features = diamonds[['table', 'depth']]\n",
    "y_target = diamonds['price']\n",
    "x_features.shape, y_target.shape"
   ]
  },
  {
   "cell_type": "code",
   "execution_count": 117,
   "metadata": {
    "scrolled": true
   },
   "outputs": [
    {
     "data": {
      "text/plain": [
       "((24273, 2), (24273,), (24273, 2), (24273,))"
      ]
     },
     "execution_count": 117,
     "metadata": {},
     "output_type": "execute_result"
    }
   ],
   "source": [
    "# create a training set and a test set\n",
    "# in this case, we split the total data into 50% train / 50% test\n",
    "from sklearn.model_selection import train_test_split\n",
    "\n",
    "X_train, X_test, y_train, y_test = train_test_split(\n",
    "    x_features, y_target, test_size=0.5, random_state=0)\n",
    "\n",
    "X_train.shape, y_train.shape, X_test.shape, y_test.shape"
   ]
  },
  {
   "cell_type": "code",
   "execution_count": 118,
   "metadata": {},
   "outputs": [
    {
     "name": "stdout",
     "output_type": "stream",
     "text": [
      "Intercept =  -14686.72709143673\n",
      "coefficients =  [245.77915374  73.11892849]\n"
     ]
    }
   ],
   "source": [
    "# now let's build our linear regression model\n",
    "# first we fit the model based only on our training data\n",
    "from sklearn.linear_model import LinearRegression\n",
    "lm = LinearRegression()\n",
    "lm.fit(X_train, y_train)\n",
    "\n",
    "# print intercept and coefficients\n",
    "print(\"Intercept = \", lm.intercept_)\n",
    "print(\"coefficients = \", lm.coef_)"
   ]
  },
  {
   "cell_type": "code",
   "execution_count": 119,
   "metadata": {},
   "outputs": [
    {
     "data": {
      "text/plain": [
       "0.01722164657052183"
      ]
     },
     "execution_count": 119,
     "metadata": {},
     "output_type": "execute_result"
    }
   ],
   "source": [
    "# what's the R-squared over our training data?\n",
    "lm.score(X_train, y_train)"
   ]
  },
  {
   "cell_type": "code",
   "execution_count": 120,
   "metadata": {
    "scrolled": true
   },
   "outputs": [
    {
     "data": {
      "text/plain": [
       "0.015848895404950936"
      ]
     },
     "execution_count": 120,
     "metadata": {},
     "output_type": "execute_result"
    }
   ],
   "source": [
    "# what's the R-squared over our test data?\n",
    "lm.score(X_test, y_test) "
   ]
  },
  {
   "cell_type": "markdown",
   "metadata": {},
   "source": [
    "So what do we learn? Our two features are not very good predictors of price. Let's see if we can do better."
   ]
  },
  {
   "cell_type": "markdown",
   "metadata": {},
   "source": [
    "### (15 points) Improving the model\n",
    "\n",
    "Next, we're going to build an improved linear regression model to predict the price of a diamond based on an analysis of **all features** (carat, cut, clarity, depth, table, x, y, z). Your goal will be to find the best combination of features.\n",
    "\n",
    "To get there, we need to massage our data to get it into the right format. \n",
    "\n",
    " - First, the two ordinal features **cut** and **clarity** need special attention: you have to make sure that the numerical values are associated with the corresponding strings (e.g., *'Ideal'*). Thus, you should setup an explicit mapping dictionary to convert the ordinal variables to integer values (e.g., Ideal --> 1, Premium --> 2, ...).\n",
    " - Second, the categorical feature **color** does not have an explicit ranking (that is, colorless and intense color may be equally preferred). You should introduce [dummy variables][1] so that you can map **color** to these dummy variables.\n",
    "\n",
    "[1]: https://en.wikipedia.org/wiki/Dummy_variable_(statistics)"
   ]
  },
  {
   "cell_type": "code",
   "execution_count": 121,
   "metadata": {
    "scrolled": true
   },
   "outputs": [
    {
     "data": {
      "text/html": [
       "<div>\n",
       "<style scoped>\n",
       "    .dataframe tbody tr th:only-of-type {\n",
       "        vertical-align: middle;\n",
       "    }\n",
       "\n",
       "    .dataframe tbody tr th {\n",
       "        vertical-align: top;\n",
       "    }\n",
       "\n",
       "    .dataframe thead th {\n",
       "        text-align: right;\n",
       "    }\n",
       "</style>\n",
       "<table border=\"1\" class=\"dataframe\">\n",
       "  <thead>\n",
       "    <tr style=\"text-align: right;\">\n",
       "      <th></th>\n",
       "      <th>carat</th>\n",
       "      <th>cut</th>\n",
       "      <th>color</th>\n",
       "      <th>clarity</th>\n",
       "      <th>depth</th>\n",
       "      <th>table</th>\n",
       "      <th>price</th>\n",
       "      <th>x</th>\n",
       "      <th>y</th>\n",
       "      <th>z</th>\n",
       "    </tr>\n",
       "  </thead>\n",
       "  <tbody>\n",
       "    <tr>\n",
       "      <th>0</th>\n",
       "      <td>0.57</td>\n",
       "      <td>1</td>\n",
       "      <td>E</td>\n",
       "      <td>4</td>\n",
       "      <td>61.4</td>\n",
       "      <td>57.0</td>\n",
       "      <td>2068</td>\n",
       "      <td>5.37</td>\n",
       "      <td>5.32</td>\n",
       "      <td>3.28</td>\n",
       "    </tr>\n",
       "    <tr>\n",
       "      <th>1</th>\n",
       "      <td>0.32</td>\n",
       "      <td>3</td>\n",
       "      <td>G</td>\n",
       "      <td>5</td>\n",
       "      <td>62.0</td>\n",
       "      <td>59.0</td>\n",
       "      <td>561</td>\n",
       "      <td>4.37</td>\n",
       "      <td>4.41</td>\n",
       "      <td>2.72</td>\n",
       "    </tr>\n",
       "    <tr>\n",
       "      <th>2</th>\n",
       "      <td>1.60</td>\n",
       "      <td>3</td>\n",
       "      <td>E</td>\n",
       "      <td>7</td>\n",
       "      <td>62.0</td>\n",
       "      <td>57.0</td>\n",
       "      <td>9900</td>\n",
       "      <td>7.47</td>\n",
       "      <td>7.54</td>\n",
       "      <td>4.65</td>\n",
       "    </tr>\n",
       "    <tr>\n",
       "      <th>3</th>\n",
       "      <td>0.44</td>\n",
       "      <td>2</td>\n",
       "      <td>I</td>\n",
       "      <td>3</td>\n",
       "      <td>61.5</td>\n",
       "      <td>57.0</td>\n",
       "      <td>1063</td>\n",
       "      <td>4.92</td>\n",
       "      <td>4.87</td>\n",
       "      <td>3.01</td>\n",
       "    </tr>\n",
       "    <tr>\n",
       "      <th>4</th>\n",
       "      <td>1.02</td>\n",
       "      <td>3</td>\n",
       "      <td>H</td>\n",
       "      <td>6</td>\n",
       "      <td>61.6</td>\n",
       "      <td>58.0</td>\n",
       "      <td>4727</td>\n",
       "      <td>6.49</td>\n",
       "      <td>6.54</td>\n",
       "      <td>4.01</td>\n",
       "    </tr>\n",
       "  </tbody>\n",
       "</table>\n",
       "</div>"
      ],
      "text/plain": [
       "   carat  cut color  clarity  depth  table  price     x     y     z\n",
       "0   0.57    1     E        4   61.4   57.0   2068  5.37  5.32  3.28\n",
       "1   0.32    3     G        5   62.0   59.0    561  4.37  4.41  2.72\n",
       "2   1.60    3     E        7   62.0   57.0   9900  7.47  7.54  4.65\n",
       "3   0.44    2     I        3   61.5   57.0   1063  4.92  4.87  3.01\n",
       "4   1.02    3     H        6   61.6   58.0   4727  6.49  6.54  4.01"
      ]
     },
     "execution_count": 121,
     "metadata": {},
     "output_type": "execute_result"
    }
   ],
   "source": [
    "# convert ordinal features\n",
    "cutDict = {'Ideal': 1, 'Premium':2, 'Very Good': 3, 'Good': 4, 'Fair': 5}\n",
    "clarityDict = {'IF': 1, 'VVS1': 2, 'VVS2':3, 'VS1':4, 'VS2': 5, 'SI1': 6, 'SI2':7,'I1':8}\n",
    "Diamond_df = pd.DataFrame(diamonds)\n",
    "#Changing Data\n",
    "Diamond_df.replace({'cut':cutDict},inplace=True)\n",
    "Diamond_df.replace({'clarity':clarityDict},inplace=True)\n",
    "%matplotlib inline\n",
    "Diamond_df.head()"
   ]
  },
  {
   "cell_type": "code",
   "execution_count": 77,
   "metadata": {},
   "outputs": [
    {
     "data": {
      "text/html": [
       "<div>\n",
       "<style scoped>\n",
       "    .dataframe tbody tr th:only-of-type {\n",
       "        vertical-align: middle;\n",
       "    }\n",
       "\n",
       "    .dataframe tbody tr th {\n",
       "        vertical-align: top;\n",
       "    }\n",
       "\n",
       "    .dataframe thead th {\n",
       "        text-align: right;\n",
       "    }\n",
       "</style>\n",
       "<table border=\"1\" class=\"dataframe\">\n",
       "  <thead>\n",
       "    <tr style=\"text-align: right;\">\n",
       "      <th></th>\n",
       "      <th>carat</th>\n",
       "      <th>cut</th>\n",
       "      <th>color</th>\n",
       "      <th>clarity</th>\n",
       "      <th>depth</th>\n",
       "      <th>table</th>\n",
       "      <th>price</th>\n",
       "      <th>x</th>\n",
       "      <th>y</th>\n",
       "      <th>z</th>\n",
       "      <th>D</th>\n",
       "      <th>E</th>\n",
       "      <th>F</th>\n",
       "      <th>G</th>\n",
       "      <th>H</th>\n",
       "      <th>I</th>\n",
       "      <th>J</th>\n",
       "    </tr>\n",
       "  </thead>\n",
       "  <tbody>\n",
       "    <tr>\n",
       "      <th>0</th>\n",
       "      <td>0.57</td>\n",
       "      <td>1</td>\n",
       "      <td>E</td>\n",
       "      <td>4</td>\n",
       "      <td>61.4</td>\n",
       "      <td>57.0</td>\n",
       "      <td>2068</td>\n",
       "      <td>5.37</td>\n",
       "      <td>5.32</td>\n",
       "      <td>3.28</td>\n",
       "      <td>0</td>\n",
       "      <td>1</td>\n",
       "      <td>0</td>\n",
       "      <td>0</td>\n",
       "      <td>0</td>\n",
       "      <td>0</td>\n",
       "      <td>0</td>\n",
       "    </tr>\n",
       "    <tr>\n",
       "      <th>1</th>\n",
       "      <td>0.32</td>\n",
       "      <td>3</td>\n",
       "      <td>G</td>\n",
       "      <td>5</td>\n",
       "      <td>62.0</td>\n",
       "      <td>59.0</td>\n",
       "      <td>561</td>\n",
       "      <td>4.37</td>\n",
       "      <td>4.41</td>\n",
       "      <td>2.72</td>\n",
       "      <td>0</td>\n",
       "      <td>0</td>\n",
       "      <td>0</td>\n",
       "      <td>1</td>\n",
       "      <td>0</td>\n",
       "      <td>0</td>\n",
       "      <td>0</td>\n",
       "    </tr>\n",
       "    <tr>\n",
       "      <th>2</th>\n",
       "      <td>1.60</td>\n",
       "      <td>3</td>\n",
       "      <td>E</td>\n",
       "      <td>7</td>\n",
       "      <td>62.0</td>\n",
       "      <td>57.0</td>\n",
       "      <td>9900</td>\n",
       "      <td>7.47</td>\n",
       "      <td>7.54</td>\n",
       "      <td>4.65</td>\n",
       "      <td>0</td>\n",
       "      <td>1</td>\n",
       "      <td>0</td>\n",
       "      <td>0</td>\n",
       "      <td>0</td>\n",
       "      <td>0</td>\n",
       "      <td>0</td>\n",
       "    </tr>\n",
       "    <tr>\n",
       "      <th>3</th>\n",
       "      <td>0.44</td>\n",
       "      <td>2</td>\n",
       "      <td>I</td>\n",
       "      <td>3</td>\n",
       "      <td>61.5</td>\n",
       "      <td>57.0</td>\n",
       "      <td>1063</td>\n",
       "      <td>4.92</td>\n",
       "      <td>4.87</td>\n",
       "      <td>3.01</td>\n",
       "      <td>0</td>\n",
       "      <td>0</td>\n",
       "      <td>0</td>\n",
       "      <td>0</td>\n",
       "      <td>0</td>\n",
       "      <td>1</td>\n",
       "      <td>0</td>\n",
       "    </tr>\n",
       "    <tr>\n",
       "      <th>4</th>\n",
       "      <td>1.02</td>\n",
       "      <td>3</td>\n",
       "      <td>H</td>\n",
       "      <td>6</td>\n",
       "      <td>61.6</td>\n",
       "      <td>58.0</td>\n",
       "      <td>4727</td>\n",
       "      <td>6.49</td>\n",
       "      <td>6.54</td>\n",
       "      <td>4.01</td>\n",
       "      <td>0</td>\n",
       "      <td>0</td>\n",
       "      <td>0</td>\n",
       "      <td>0</td>\n",
       "      <td>1</td>\n",
       "      <td>0</td>\n",
       "      <td>0</td>\n",
       "    </tr>\n",
       "  </tbody>\n",
       "</table>\n",
       "</div>"
      ],
      "text/plain": [
       "   carat  cut color  clarity  depth  table  price     x     y     z  D  E  F  \\\n",
       "0   0.57    1     E        4   61.4   57.0   2068  5.37  5.32  3.28  0  1  0   \n",
       "1   0.32    3     G        5   62.0   59.0    561  4.37  4.41  2.72  0  0  0   \n",
       "2   1.60    3     E        7   62.0   57.0   9900  7.47  7.54  4.65  0  1  0   \n",
       "3   0.44    2     I        3   61.5   57.0   1063  4.92  4.87  3.01  0  0  0   \n",
       "4   1.02    3     H        6   61.6   58.0   4727  6.49  6.54  4.01  0  0  0   \n",
       "\n",
       "   G  H  I  J  \n",
       "0  0  0  0  0  \n",
       "1  1  0  0  0  \n",
       "2  0  0  0  0  \n",
       "3  0  0  1  0  \n",
       "4  0  1  0  0  "
      ]
     },
     "execution_count": 77,
     "metadata": {},
     "output_type": "execute_result"
    }
   ],
   "source": [
    "# convert categorical feature\n",
    "colourDum = pd.get_dummies(diamonds['color']) #drop_first=True\n",
    "dataf = Diamond_df.merge(colourDum,left_index=True, right_index=True)\n",
    "%matplotlib inline\n",
    "dataf.head()"
   ]
  },
  {
   "cell_type": "markdown",
   "metadata": {},
   "source": [
    "### (15 points) Evaluation using k-fold cross-validation\n",
    "\n",
    "We're going to test the quality of the regression model you find using **k-fold cross-validation**. Unlike our train-test split shown above, here we're going to divide the dataset k times and report the average results over these k different splits. For the rest of this regression part of the homework, we'll use **k=10**. Make sure to set `random_state=0`."
   ]
  },
  {
   "cell_type": "code",
   "execution_count": 11,
   "metadata": {},
   "outputs": [
    {
     "name": "stdout",
     "output_type": "stream",
     "text": [
      "Avg Train:  0.016591716265661426\n",
      " Avg Test:  0.0165686666570108\n"
     ]
    }
   ],
   "source": [
    "from sklearn.model_selection import KFold\n",
    "### your code here ###\n",
    "kf = KFold(n_splits=10,random_state=0, shuffle=True)\n",
    "x_features = dataf[['table', 'depth']] \n",
    "y_target = dataf['price']\n",
    "#print(kf.split(x_features))\n",
    "results = []\n",
    "avg_train = 0\n",
    "avg_test = 0\n",
    "for train_index, test_index in kf.split(x_features):\n",
    "    avg_train += lm.score(X_train, y_train)\n",
    "    avg_test += lm.score(X_test, y_test)\n",
    "    \n",
    "    X_train = x_features.iloc[train_index]\n",
    "    X_test = x_features.iloc[test_index]\n",
    "    y_train = y_target.iloc[train_index]\n",
    "    y_test = y_target.iloc[test_index]\n",
    "\n",
    "avg_train /= 10\n",
    "avg_test /= 10\n",
    "print(\"Avg Train: \",avg_train)\n",
    "print(\" Avg Test: \",avg_test)"
   ]
  },
  {
   "cell_type": "markdown",
   "metadata": {},
   "source": [
    "### (30 points) Finding the best model\n",
    "\n",
    "Now the fun part. You should conduct a series of experiments to identify what you think is the best combination of features for predicting a diamond's price. To help you out, you should calculate the mean absolute error, mean squared error, and $R^2$ value over the training set and the test set (all the metrics are provided [here](http://scikit-learn.org/stable/modules/model_evaluation.html)). \n",
    "\n",
    "Analyze which combinations of features yield better performance on the test set. While we don't expect you to enumerate all possible combinations below, we do want to see a reasonable line of thinking that guides your decisions. Show us some initial attempts, intermediate ones, and finally your best one."
   ]
  },
  {
   "cell_type": "code",
   "execution_count": 35,
   "metadata": {},
   "outputs": [
    {
     "name": "stdout",
     "output_type": "stream",
     "text": [
      "R^2 Value: 0.8469780337429886\n",
      "Mean Abs. Error: 1009.0196369756336\n",
      "Mean Sqr. Error: 2405310.8551332452\n"
     ]
    }
   ],
   "source": [
    "from sklearn import metrics\n",
    "# initial attempts\n",
    "x_features = dataf[['carat']]\n",
    "y_target = dataf['price']\n",
    "\n",
    "X_train, X_test, y_train, y_test = train_test_split(\n",
    "    x_features, y_target, test_size=0.5, random_state=0)\n",
    "\n",
    "\n",
    "lmCD = LinearRegression()\n",
    "lmCD.fit(X_train, y_train)\n",
    "print(\"R^2 Value:\",lmCD.score(X_test, y_test))\n",
    "y_pred = lmCD.predict(X_test)\n",
    "print(\"Mean Abs. Error:\",metrics.mean_absolute_error(y_test,y_pred))\n",
    "print(\"Mean Sqr. Error:\",metrics.mean_squared_error(y_test,y_pred))"
   ]
  },
  {
   "cell_type": "code",
   "execution_count": 26,
   "metadata": {},
   "outputs": [
    {
     "name": "stdout",
     "output_type": "stream",
     "text": [
      "R^2 Value: 0.8843760173891702\n",
      "Mean Abs. Error: 906.5311087251777\n",
      "Mean Sqr. Error: 1817462.0761339464\n"
     ]
    }
   ],
   "source": [
    "# intermediate attempts\n",
    "x_features = dataf[['clarity', 'carat']] #carat & depth is good..?/ carat & cut = closer/ carat & clarity = closer\n",
    "y_target = dataf['price']\n",
    "\n",
    "X_train, X_test, y_train, y_test = train_test_split(\n",
    "    x_features, y_target, test_size=0.5, random_state=0)\n",
    "\n",
    "lmCD = LinearRegression()\n",
    "lmCD.fit(X_train, y_train)\n",
    "print(\"R^2 Value:\",lmCD.score(X_test, y_test))\n",
    "y_pred = lmCD.predict(X_test)\n",
    "print(\"Mean Abs. Error:\",metrics.mean_absolute_error(y_test,y_pred))\n",
    "print(\"Mean Sqr. Error:\",metrics.mean_squared_error(y_test,y_pred))"
   ]
  },
  {
   "cell_type": "code",
   "execution_count": 63,
   "metadata": {},
   "outputs": [
    {
     "name": "stdout",
     "output_type": "stream",
     "text": [
      "R^2 Value: 0.89293043512799\n",
      "Mean Abs. Error: 882.2403439080354\n",
      "Mean Sqr. Error: 1682997.499904617\n"
     ]
    }
   ],
   "source": [
    "# final (best) attempt\n",
    "x_features = dataf[['carat', 'clarity', 'J']]\n",
    "y_target = dataf['price']\n",
    "\n",
    "X_train, X_test, y_train, y_test = train_test_split(\n",
    "    x_features, y_target, test_size=0.5, random_state=0)\n",
    "\n",
    "\n",
    "lmCD = LinearRegression()\n",
    "lmCD.fit(X_train, y_train)\n",
    "print(\"R^2 Value:\",lmCD.score(X_test, y_test))\n",
    "y_pred = lmCD.predict(X_test)\n",
    "print(\"Mean Abs. Error:\",metrics.mean_absolute_error(y_test,y_pred))\n",
    "print(\"Mean Sqr. Error:\",metrics.mean_squared_error(y_test,y_pred))"
   ]
  },
  {
   "cell_type": "markdown",
   "metadata": {},
   "source": [
    "Add a brief discussion here on:\n",
    " - What features are in your final model?\n",
    " - What impact do they have on the price of a diamond?\n",
    " - Do you observe anything interesting or suprising?"
   ]
  },
  {
   "cell_type": "markdown",
   "metadata": {},
   "source": [
    "1. The features in my final model are cut, clarity, and \"J\" color (so more intense of a color)\n",
    "2. The have an impact on the price of a diamond by raising the price. \n",
    "3. I was surprised that depth with clarity had the least impact on the price. I thought that the more clear and bigger/deeper the diamond would raise the price."
   ]
  },
  {
   "cell_type": "markdown",
   "metadata": {},
   "source": [
    "## Lasso Regression\n",
    "\n",
    "In the second part of this homework, you will play with another regression model on the diamonds data.  \n",
    "\n",
    "The **Lasso** is a linear model that estimates sparse coefficients. It is useful in some contexts due to its tendency to prefer solutions with fewer non-zero coefficients, effectively reducing the number of features upon which the given solution is dependent. Recall our discussion from class about how Lasso adds a *regularization term*.  \n",
    "\n",
    "Mathematically, it consists of a linear model with an added regularization term. The objective function to minimize is:   \n",
    "<center>$\\min_{w} { \\frac{1}{2n_{\\text{samples}}} ||X w - y||_2 ^ 2 + \\alpha ||w||_1}$</center>\n",
    "The Lasso estimate thus solves the minimization of the least-squares penalty with $\\alpha ||w||_1$ added, where $\\alpha$ is a constant and $||w||_1$ is the $\\ell_1$-norm of the coefficient vector."
   ]
  },
  {
   "cell_type": "markdown",
   "metadata": {},
   "source": [
    "### (10 points) Initial attempt on Lasso\n",
    "Let's start our exploration on Lasso Regression by using [its sklearn implementation](https://scikit-learn.org/stable/modules/generated/sklearn.linear_model.Lasso.html#sklearn.linear_model.Lasso). For the intial attempt, set the parameter $\\alpha$(alpha) to **0.1**, and calculate the mean absolute error, mean squared error, and $R^2$ value over the training set and the test set."
   ]
  },
  {
   "cell_type": "code",
   "execution_count": 137,
   "metadata": {},
   "outputs": [
    {
     "name": "stdout",
     "output_type": "stream",
     "text": [
      "R^2 value: 0.015793111764814127\n",
      "Mean Abs. Error: 2980.346485716832\n",
      "Mean Sqr. Error: 15470481.590812365\n"
     ]
    }
   ],
   "source": [
    "from sklearn.linear_model import Lasso\n",
    "### your code here ###\n",
    "lassoReg = Lasso(alpha=0.1,normalize=True)\n",
    "lassoReg.fit(X_train,y_train)\n",
    "print(\"R^2 value:\", lassoReg.score(X_test,y_test))\n",
    "\n",
    "y_pred = lassoReg.predict(X_test)\n",
    "print(\"Mean Abs. Error:\",metrics.mean_absolute_error(y_test,y_pred))\n",
    "print(\"Mean Sqr. Error:\",metrics.mean_squared_error(y_test,y_pred))\n"
   ]
  },
  {
   "cell_type": "markdown",
   "metadata": {},
   "source": [
    "### (20 points) Feature selection with Lasso  \n",
    "Now, let's control the degree of sparsity of the estimated coefficients by tuning the parameter $\\alpha$(alpha). For this section, you will also need to print out the estimated coefficients."
   ]
  },
  {
   "cell_type": "code",
   "execution_count": 128,
   "metadata": {},
   "outputs": [],
   "source": [
    "### your code here ###\n",
    "########### Alpha = .02\n",
    "lassoReg = Lasso(alpha=0.02,normalize=True)\n",
    "lassoReg.fit(X_train,y_train)\n",
    "\n",
    "\n",
    "y_pred = lassoReg.predict(X_test)\n",
    "\n",
    "\n",
    "############## Alpha = .001\n",
    "lassoReg = Lasso(alpha=0.001,normalize=True)\n",
    "lassoReg.fit(X_train,y_train)\n",
    "\n",
    "\n",
    "y_pred = lassoReg.predict(X_test)\n",
    "\n",
    "\n",
    "####### Alpha = .05\n",
    "lassoReg = Lasso(alpha=0.05,normalize=True)\n",
    "lassoReg.fit(X_train,y_train)\n",
    "\n",
    "\n",
    "y_pred = lassoReg.predict(X_test)\n"
   ]
  },
  {
   "cell_type": "markdown",
   "metadata": {},
   "source": [
    "Record your experiment results in the following table:  \n",
    "\n",
    "| value of $\\alpha$ | Name of Features with<br>Non-zero Coefficients |   MAE  |   MSE  |  $R^2$ |\n",
    "|:-----------------:|:----------------------------------------------:|:------:|:------:|:------:|\n",
    "    |        0.1  |                     \"Carat, Clarity\"       | 901.4842 | 1818853.00 | 0.88428 |\n",
    "    |        .05 |                     \"Carat, Clarity\"       | 903.9614 | 1817967.77 | 0.88434 |\n",
    "    |       .001  |                     \"Carat, Clarity\"       | 906.4787 | 1817468.47 | 0.88437 |\n",
    "<center>(Feel free to add more rows as you need)</center>"
   ]
  },
  {
   "cell_type": "markdown",
   "metadata": {},
   "source": [
    "Do you observe anything interesting or suprising?  \n",
    "The higher $\\alpha$ value, the more accurate the model becomes"
   ]
  },
  {
   "cell_type": "markdown",
   "metadata": {},
   "source": [
    "### (10 points) Comparison with Linear Regression\n",
    "Next, let's keep tuning the parameter $\\alpha$ so that the Lasso Regression model assigns the same **amount** of features with non-zero coefficients as the amount of features for your final model in part 1."
   ]
  },
  {
   "cell_type": "code",
   "execution_count": 160,
   "metadata": {},
   "outputs": [
    {
     "name": "stdout",
     "output_type": "stream",
     "text": [
      "R^2 value: 0.015848881992382435\n"
     ]
    },
    {
     "data": {
      "text/html": [
       "<div>\n",
       "<style scoped>\n",
       "    .dataframe tbody tr th:only-of-type {\n",
       "        vertical-align: middle;\n",
       "    }\n",
       "\n",
       "    .dataframe tbody tr th {\n",
       "        vertical-align: top;\n",
       "    }\n",
       "\n",
       "    .dataframe thead th {\n",
       "        text-align: right;\n",
       "    }\n",
       "</style>\n",
       "<table border=\"1\" class=\"dataframe\">\n",
       "  <thead>\n",
       "    <tr style=\"text-align: right;\">\n",
       "      <th></th>\n",
       "      <th>table</th>\n",
       "      <th>depth</th>\n",
       "    </tr>\n",
       "    <tr>\n",
       "      <th>price</th>\n",
       "      <th></th>\n",
       "      <th></th>\n",
       "    </tr>\n",
       "  </thead>\n",
       "  <tbody>\n",
       "    <tr>\n",
       "      <th>770</th>\n",
       "      <td>55.0</td>\n",
       "      <td>62.3</td>\n",
       "    </tr>\n",
       "    <tr>\n",
       "      <th>7706</th>\n",
       "      <td>58.0</td>\n",
       "      <td>59.1</td>\n",
       "    </tr>\n",
       "    <tr>\n",
       "      <th>16422</th>\n",
       "      <td>54.0</td>\n",
       "      <td>63.3</td>\n",
       "    </tr>\n",
       "    <tr>\n",
       "      <th>1129</th>\n",
       "      <td>57.0</td>\n",
       "      <td>61.9</td>\n",
       "    </tr>\n",
       "    <tr>\n",
       "      <th>1615</th>\n",
       "      <td>58.0</td>\n",
       "      <td>63.2</td>\n",
       "    </tr>\n",
       "  </tbody>\n",
       "</table>\n",
       "</div>"
      ],
      "text/plain": [
       "       table  depth\n",
       "price              \n",
       "770     55.0   62.3\n",
       "7706    58.0   59.1\n",
       "16422   54.0   63.3\n",
       "1129    57.0   61.9\n",
       "1615    58.0   63.2"
      ]
     },
     "execution_count": 160,
     "metadata": {},
     "output_type": "execute_result"
    }
   ],
   "source": [
    "### your code here ###\n",
    "\n",
    "lassoReg = Lasso(alpha=0.000125,normalize=True)\n",
    "lassoReg.fit(X_train,y_train)\n",
    "print(\"R^2 value:\", lassoReg.score(X_test,y_test))\n",
    "\n",
    "y_pred = lassoReg.predict(X_test)\n",
    "\n",
    "%matplotlib inline\n",
    "Ldata = pd.DataFrame(x_features, y_test)\n",
    "Ldata.head()"
   ]
  },
  {
   "cell_type": "markdown",
   "metadata": {},
   "source": [
    "Add a brief discussion here on:\n",
    " - Compare the performance of this Lasso Regression model with your final model of part 1.\n",
    " - What are features that recieved non-zero coefficients from the Lasso Regression model? Are they the same as your manually selected combination? \n",
    " - Any other thoughts you have about the results you got in this homework.\n",
    " \n",
    "1. This Lasso Regression model is significantly less accurate at predicting the price of diamonds compared to the simple linear regression model.\n",
    "2. The non-zero coefficients from my lasso regression model were table and depth. This is different for when I manually entered my coefficients.\n",
    "3. I thought it was interesting to see and experiment with creating a more accurate model and that lasso regression only looked at table and depth of a diamond to determine its price."
   ]
  },
  {
   "cell_type": "markdown",
   "metadata": {},
   "source": [
    "## (10 points maximum) Bonus: Diamonds benchmark\n",
    "The bonus question is a chance for you to explore a greater territory of [linear regression models](https://scikit-learn.org/stable/modules/linear_model.html) and [feature selections methods](https://scikit-learn.org/stable/modules/feature_selection.html) with the help of sklearn.    \n",
    " - You can try as many models or methods as you like (within the scope of sklearn.linear_model and sklearn.feature_selection), but you will need to select a final model for benchmarking. \n",
    " - Specifically, you will train & validate your model with data contained in *diamonds.csv*, and provide your final model's predictions of samples contained in 'diamonds_bonus.csv'.\n",
    " - Your code in the next section should fill the **price** column of the 'diamonds_bonus.csv' file with your final model's predictions.\n",
    " - Submission: Submit the 'diamonds_bonus.csv' file together with your ipynb file.\n",
    " - Awards depend on the ranking of your model's $R^2$ performance among all the participants.  \n",
    "\n",
    "|   Ranking   |   Awards  |\n",
    "|:-----------:|:---------:|\n",
    "|   top 10%   | 10 points |\n",
    "|   top 30%   | 5 points |\n",
    "|   top 60%   | 2 points |\n",
    "| Effort made |  1 point |"
   ]
  },
  {
   "cell_type": "code",
   "execution_count": null,
   "metadata": {},
   "outputs": [],
   "source": [
    "### This cell should be independently runnable, please import all necessary packages here ###\n",
    "### We will randomly run at least 20% of the participants' code to valide their submitted csv file ###\n",
    "import pandas as pd\n",
    "from sklearn.model_selection import train_test_split\n",
    "from sklearn.model_selection import KFold\n",
    "\n",
    "from sklearn import linear_model\n",
    "from sklearn import feature_selection\n",
    "\n",
    "from sklearn import metrics\n",
    "\n",
    "diamonds = pd.read_csv('diamonds.csv', index_col=0)\n",
    "diamonds_bonus = pd.read_csv('diamonds_bonus.csv', index_col=0)\n",
    "### your code here ###"
   ]
  },
  {
   "cell_type": "markdown",
   "metadata": {},
   "source": [
    "**Briefly decribe your final model** (model type, values of tunable parameters, feature selection methods, etc):    \n",
    "`TODO`"
   ]
  }
 ],
 "metadata": {
  "anaconda-cloud": {},
  "kernelspec": {
   "display_name": "Python 3",
   "language": "python",
   "name": "python3"
  },
  "language_info": {
   "codemirror_mode": {
    "name": "ipython",
    "version": 3
   },
   "file_extension": ".py",
   "mimetype": "text/x-python",
   "name": "python",
   "nbconvert_exporter": "python",
   "pygments_lexer": "ipython3",
   "version": "3.8.5"
  }
 },
 "nbformat": 4,
 "nbformat_minor": 1
}
